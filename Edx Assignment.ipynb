{
 "cells": [
  {
   "cell_type": "markdown",
   "id": "574fa999",
   "metadata": {},
   "source": [
    "# My Assignment Notebook#"
   ]
  },
  {
   "cell_type": "markdown",
   "id": "598db900",
   "metadata": {},
   "source": [
    "Introduction"
   ]
  },
  {
   "cell_type": "markdown",
   "id": "d942cd94",
   "metadata": {},
   "source": [
    "**List of Data Science Language**\n",
    "- Python\n",
    "- R\n",
    "- Julia\n",
    "- SQL\n",
    "- MATLAB"
   ]
  },
  {
   "cell_type": "markdown",
   "id": "3f84c89b",
   "metadata": {},
   "source": [
    "Data Science Libraries:\n",
    "- NumPy\n",
    "- Pandas\n",
    "- Matplotlib\n",
    "- Scikit-learn\n",
    "- TensorFlow\n",
    "- Keras\n",
    "- PyTorch\n",
    "- Seaborn\n",
    "- StatsModels\n"
   ]
  },
  {
   "cell_type": "markdown",
   "id": "c2a195b8",
   "metadata": {},
   "source": [
    "| Tool             | Description                              |\n",
    "|------------------|------------------------------------------|\n",
    "| Python           | General-purpose programming language      |\n",
    "| R                | Statistical computing and graphics        |\n",
    "| Julia            | High-level programming language           |\n",
    "| SQL              | Database query language                   |\n",
    "| MATLAB           | Numerical computing environment           |\n",
    "| NumPy            | Numerical computing library for Python    |\n",
    "| Pandas           | Data manipulation library for Python      |\n",
    "| Scikit-learn     | Machine learning library for Python       |\n",
    "| TensorFlow       | Deep learning framework                   |\n",
    "| Keras            | Deep learning library                     |\n",
    "| PyTorch          | Deep learning framework                   |\n",
    "| Tableau          | Data visualization tool                   |\n",
    "| Power BI         | Business intelligence tool                |\n",
    "| RapidMiner       | Data mining and analytics platform        |\n"
   ]
  },
  {
   "cell_type": "markdown",
   "id": "6b09e3ca",
   "metadata": {},
   "source": [
    "Arithmetic Expression Examples:\n",
    "\n",
    "Arithmetic expressions are used in programming to perform mathematical calculations. Here are some examples of arithmetic expressions:\n",
    "\n",
    "1. Addition:\n",
    "   - `2 + 3` evaluates to 5\n",
    "   - `7 + 1.5` evaluates to 8.5\n",
    "\n",
    "2. Subtraction:\n",
    "   - `10 - 4` evaluates to 6\n",
    "   - `5.5 - 2.3` evaluates to 3.2\n",
    "\n",
    "3. Multiplication:\n",
    "   - `3 * 4` evaluates to 12\n",
    "   - `2.5 * 1.5` evaluates to 3.75\n",
    "\n",
    "4. Division:\n",
    "   - `10 / 2` evaluates to 5\n",
    "   - `15 / 4` evaluates to 3.75\n",
    "\n",
    "5. Exponentiation:\n",
    "   - `2 ** 3` evaluates to 8\n",
    "   - `4 ** 0.5` evaluates to 2\n",
    "\n",
    "6. Modulo (Remainder):\n",
    "   - `10 % 3` evaluates to 1\n",
    "   - `16 % 4` evaluates to 0\n",
    "\n",
    "These examples demonstrate various arithmetic operations."
   ]
  },
  {
   "cell_type": "code",
   "execution_count": 4,
   "id": "d95092a0",
   "metadata": {},
   "outputs": [
    {
     "name": "stdout",
     "output_type": "stream",
     "text": [
      "Multiplication Result: 15\n",
      "Addition Result: 9\n"
     ]
    }
   ],
   "source": [
    "# Multiplication\n",
    "num1 = 5\n",
    "num2 = 3\n",
    "result_mult = num1 * num2\n",
    "print(\"Multiplication Result:\", result_mult)\n",
    "\n",
    "# Addition\n",
    "num3 = 7\n",
    "num4 = 2\n",
    "result_add = num3 + num4\n",
    "print(\"Addition Result:\", result_add)"
   ]
  },
  {
   "cell_type": "code",
   "execution_count": 5,
   "id": "7294669e",
   "metadata": {},
   "outputs": [
    {
     "name": "stdout",
     "output_type": "stream",
     "text": [
      "Minutes: 150\n",
      "Hours: 2.5\n"
     ]
    }
   ],
   "source": [
    "# Convert minutes to hours\n",
    "minutes = 150\n",
    "hours = minutes / 60\n",
    "\n",
    "print(\"Minutes:\", minutes)\n",
    "print(\"Hours:\", hours)"
   ]
  },
  {
   "cell_type": "markdown",
   "id": "c31e4593",
   "metadata": {},
   "source": [
    "**Objectives**\n",
    "\n",
    "The objectives of this project are:\n",
    "\n",
    "1. Give introduction.\n",
    "2. languages used in data science.\n",
    "3. Various development tools.\n",
    "4. basic application of python code.\n",
    "\n",
    "By achieving these objectives, we aim to address the problem statement and derive valuable insights from the data using machine learning techniques."
   ]
  },
  {
   "cell_type": "markdown",
   "id": "9d4f82b4",
   "metadata": {},
   "source": [
    "**Auther of Project**\n",
    "            - *Vinit Yawale*"
   ]
  }
 ],
 "metadata": {
  "kernelspec": {
   "display_name": "Python 3 (ipykernel)",
   "language": "python",
   "name": "python3"
  },
  "language_info": {
   "codemirror_mode": {
    "name": "ipython",
    "version": 3
   },
   "file_extension": ".py",
   "mimetype": "text/x-python",
   "name": "python",
   "nbconvert_exporter": "python",
   "pygments_lexer": "ipython3",
   "version": "3.11.2"
  }
 },
 "nbformat": 4,
 "nbformat_minor": 5
}
